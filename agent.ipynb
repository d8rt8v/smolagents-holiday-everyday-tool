{
 "cells": [
  {
   "cell_type": "code",
   "execution_count": null,
   "metadata": {},
   "outputs": [],
   "source": [
    "from typing import Optional\n",
    "import requests\n",
    "from bs4 import BeautifulSoup\n",
    "from smolagents import CodeAgent, LiteLLMModel, FinalAnswerTool, ToolCallingAgent, tool, Tool"
   ]
  },
  {
   "cell_type": "code",
   "execution_count": null,
   "metadata": {},
   "outputs": [],
   "source": [
    "# Tracing \n",
    "\n",
    "# from phoenix.otel import register\n",
    "# from openinference.instrumentation.smolagents import SmolagentsInstrumentor\n",
    "\n",
    "# register()\n",
    "# SmolagentsInstrumentor().instrument()"
   ]
  },
  {
   "cell_type": "code",
   "execution_count": 30,
   "metadata": {},
   "outputs": [],
   "source": [
    "@tool\n",
    "\n",
    "def get_holidays(day: int, month: int) -> str:\n",
    "    \"\"\"A tool that returns holidays for a given day and month.\n",
    "    \n",
    "    Args:\n",
    "        day: The day of the month (1-31) in integer format\n",
    "        month: The month of the year (1-12) in integer format\n",
    "    \n",
    "    Returns:\n",
    "        A string listing holidays for the specified date, or an error message if something goes wrong.\n",
    "    \"\"\"\n",
    "    #Imports\n",
    "    \n",
    "    import requests\n",
    "    from bs4 import BeautifulSoup\n",
    "    \n",
    "    #Mapping for request \n",
    "    \n",
    "    months = {\n",
    "    1:\"yanvar\",\n",
    "    2:\"fevral\",\n",
    "    3:\"mart\",\n",
    "    4:\"aprel\",\n",
    "    5:\"may\",\n",
    "    6:\"iyun\",\n",
    "    7:\"iyul\",\n",
    "    8:\"avgust\",\n",
    "    9:\"sentyabr\",\n",
    "    10:\"oktyabr\",\n",
    "    11:\"noyabr\",\n",
    "    12:\"dekabr\"\n",
    "    }\n",
    "    \n",
    "    # Validate the month and day\n",
    "    if month is None or day is None:\n",
    "        return \"Invalid month/day\"\n",
    "\n",
    "    # Validate month range\n",
    "    if not (1 <= month <= 12):\n",
    "        return \"Invalid month\"\n",
    "\n",
    "    # Validate day range (assuming non-leap year for simplicity)\n",
    "    if month in {4, 6, 9, 11} and day > 30:\n",
    "        return \"Invalid day for this month\"\n",
    "    elif month == 2 and day > 28:\n",
    "        return \"Invalid day for February\"\n",
    "    elif day > 31:\n",
    "        return \"Invalid day\"\n",
    "\n",
    "    # Map the month to its Russian name\n",
    "    russian_month = months[month]\n",
    "\n",
    "    # Construct the query URL\n",
    "    url = f\"https://kakoysegodnyaprazdnik.ru/baza/{russian_month}/{day}\"\n",
    "\n",
    "    # Define headers to mimic a browser\n",
    "    headers = {\n",
    "        \"User-Agent\": \"Mozilla/5.0 (Windows; Windows NT 10.3; WOW64; en-US) AppleWebKit/603.45 (KHTML, like Gecko) Chrome/51.0.2756.132 Safari/601\", \n",
    "        \"Accept\": \"text/html,application/xhtml+xml,application/xml;q=0.9,image/webp,*/*;q=0.8\",\n",
    "        \"Accept-Language\": \"ru-RU,en;q=0.9\",\n",
    "        \"Accept-Encoding\": \"gzip, deflate\"\n",
    "    }\n",
    "\n",
    "    try:\n",
    "        # Send GET request\n",
    "        response = requests.get(url, headers=headers)\n",
    "        response.raise_for_status()  # Raises an exception for 4xx/5xx errors\n",
    "        response.encoding = 'utf-8'  # Ensure proper decoding of Russian text\n",
    "\n",
    "        # Parse HTML content\n",
    "        soup = BeautifulSoup(response.text, \"html.parser\")\n",
    "        listing_wr_div = soup.find(\"div\", class_=\"listing_wr\")\n",
    "\n",
    "        if not listing_wr_div:\n",
    "            return \"No holiday data found for this date.\"\n",
    "\n",
    "        # Extract holiday names\n",
    "        holidays = []\n",
    "        for answer_div in listing_wr_div.find_all(\"div\", itemprop=[\"suggestedAnswer\", \"acceptedAnswer\"]):\n",
    "            span_tag = answer_div.find(\"span\", itemprop=\"text\")\n",
    "            if span_tag:\n",
    "                holiday = span_tag.get_text(strip=True)\n",
    "                holidays.append(holiday)\n",
    "\n",
    "        # Return results\n",
    "        if not holidays:\n",
    "            return \"No holidays found for this date.\"\n",
    "        return \"\\n\".join(holidays)  # Join holidays with newlines for readability\n",
    "\n",
    "    except requests.RequestException as e:\n",
    "        return f\"Failed to retrieve holidays. Error: {str(e)}\"\n"
   ]
  },
  {
   "cell_type": "code",
   "execution_count": 27,
   "metadata": {},
   "outputs": [
    {
     "data": {
      "text/html": [
       "<pre style=\"white-space:pre;overflow-x:auto;line-height:normal;font-family:Menlo,'DejaVu Sans Mono',consolas,'Courier New',monospace\"><span style=\"color: #d4b702; text-decoration-color: #d4b702\">╭──────────────────────────────────────────────────── </span><span style=\"color: #d4b702; text-decoration-color: #d4b702; font-weight: bold\">New run</span><span style=\"color: #d4b702; text-decoration-color: #d4b702\"> ────────────────────────────────────────────────────╮</span>\n",
       "<span style=\"color: #d4b702; text-decoration-color: #d4b702\">│</span>                                                                                                                 <span style=\"color: #d4b702; text-decoration-color: #d4b702\">│</span>\n",
       "<span style=\"color: #d4b702; text-decoration-color: #d4b702\">│</span> <span style=\"font-weight: bold\">Какие есть кринжовые праздники на 24 марта? Ответь на русском в формате таблицы Markdown - Праздник, Тема, </span>     <span style=\"color: #d4b702; text-decoration-color: #d4b702\">│</span>\n",
       "<span style=\"color: #d4b702; text-decoration-color: #d4b702\">│</span> <span style=\"font-weight: bold\">Уровень кринжа (1-10)</span>                                                                                           <span style=\"color: #d4b702; text-decoration-color: #d4b702\">│</span>\n",
       "<span style=\"color: #d4b702; text-decoration-color: #d4b702\">│</span>                                                                                                                 <span style=\"color: #d4b702; text-decoration-color: #d4b702\">│</span>\n",
       "<span style=\"color: #d4b702; text-decoration-color: #d4b702\">╰─ LiteLLMModel - ollama/phi4:latest ─────────────────────────────────────────────────────────────────────────────╯</span>\n",
       "</pre>\n"
      ],
      "text/plain": [
       "\u001b[38;2;212;183;2m╭─\u001b[0m\u001b[38;2;212;183;2m───────────────────────────────────────────────────\u001b[0m\u001b[38;2;212;183;2m \u001b[0m\u001b[1;38;2;212;183;2mNew run\u001b[0m\u001b[38;2;212;183;2m \u001b[0m\u001b[38;2;212;183;2m───────────────────────────────────────────────────\u001b[0m\u001b[38;2;212;183;2m─╮\u001b[0m\n",
       "\u001b[38;2;212;183;2m│\u001b[0m                                                                                                                 \u001b[38;2;212;183;2m│\u001b[0m\n",
       "\u001b[38;2;212;183;2m│\u001b[0m \u001b[1mКакие есть кринжовые праздники на 24 марта? Ответь на русском в формате таблицы Markdown - Праздник, Тема, \u001b[0m     \u001b[38;2;212;183;2m│\u001b[0m\n",
       "\u001b[38;2;212;183;2m│\u001b[0m \u001b[1mУровень кринжа (1-10)\u001b[0m                                                                                           \u001b[38;2;212;183;2m│\u001b[0m\n",
       "\u001b[38;2;212;183;2m│\u001b[0m                                                                                                                 \u001b[38;2;212;183;2m│\u001b[0m\n",
       "\u001b[38;2;212;183;2m╰─\u001b[0m\u001b[38;2;212;183;2m LiteLLMModel - ollama/phi4:latest \u001b[0m\u001b[38;2;212;183;2m────────────────────────────────────────────────────────────────────────────\u001b[0m\u001b[38;2;212;183;2m─╯\u001b[0m\n"
      ]
     },
     "metadata": {},
     "output_type": "display_data"
    },
    {
     "data": {
      "text/html": [
       "<pre style=\"white-space:pre;overflow-x:auto;line-height:normal;font-family:Menlo,'DejaVu Sans Mono',consolas,'Courier New',monospace\"><span style=\"color: #d4b702; text-decoration-color: #d4b702\">━━━━━━━━━━━━━━━━━━━━━━━━━━━━━━━━━━━━━━━━━━━━━━━━━━━━━ </span><span style=\"font-weight: bold\">Step </span><span style=\"color: #008080; text-decoration-color: #008080; font-weight: bold\">1</span><span style=\"color: #d4b702; text-decoration-color: #d4b702\"> ━━━━━━━━━━━━━━━━━━━━━━━━━━━━━━━━━━━━━━━━━━━━━━━━━━━━━━</span>\n",
       "</pre>\n"
      ],
      "text/plain": [
       "\u001b[38;2;212;183;2m━━━━━━━━━━━━━━━━━━━━━━━━━━━━━━━━━━━━━━━━━━━━━━━━━━━━━ \u001b[0m\u001b[1mStep \u001b[0m\u001b[1;36m1\u001b[0m\u001b[38;2;212;183;2m ━━━━━━━━━━━━━━━━━━━━━━━━━━━━━━━━━━━━━━━━━━━━━━━━━━━━━━\u001b[0m\n"
      ]
     },
     "metadata": {},
     "output_type": "display_data"
    },
    {
     "data": {
      "text/html": [
       "<pre style=\"white-space:pre;overflow-x:auto;line-height:normal;font-family:Menlo,'DejaVu Sans Mono',consolas,'Courier New',monospace\">╭─────────────────────────────────────────────────────────────────────────────────────────────────────────────────╮\n",
       "│ Calling tool: 'get_holidays' with arguments: {'day': 24, 'month': 3}                                            │\n",
       "╰─────────────────────────────────────────────────────────────────────────────────────────────────────────────────╯\n",
       "</pre>\n"
      ],
      "text/plain": [
       "╭─────────────────────────────────────────────────────────────────────────────────────────────────────────────────╮\n",
       "│ Calling tool: 'get_holidays' with arguments: {'day': 24, 'month': 3}                                            │\n",
       "╰─────────────────────────────────────────────────────────────────────────────────────────────────────────────────╯\n"
      ]
     },
     "metadata": {},
     "output_type": "display_data"
    },
    {
     "data": {
      "text/html": [
       "<pre style=\"white-space:pre;overflow-x:auto;line-height:normal;font-family:Menlo,'DejaVu Sans Mono',consolas,'Courier New',monospace\">Observations: День мастера маникюра\n",
       "День рождения паровоза\n",
       "День пробуждения медведя\n",
       "Международный день борьбы с депрессией <span style=\"font-weight: bold\">(</span>International Day Against Depression<span style=\"font-weight: bold\">)</span>\n",
       "День вверх тормашками\n",
       "День врача-фтизиатра\n",
       "День штурманской службы ВВС РФ\n",
       "День рождения куриного окорочка\n",
       "Международный день иллюзионистов\n",
       "Всемирный день борьбы с туберкулёзом <span style=\"font-weight: bold\">(</span>World Tuberculosis Day<span style=\"font-weight: bold\">)</span>\n",
       "Международный день достижений <span style=\"font-weight: bold\">(</span>International Day for Achievers<span style=\"font-weight: bold\">)</span>\n",
       "Международный день права на установление истины в отношении грубых нарушений прав человека и достоинства жертв \n",
       "<span style=\"font-weight: bold\">(</span>International Day for the Right to the Truth Concerning Gross Human Rights Violations and for the Dignity of \n",
       "Victims<span style=\"font-weight: bold\">)</span>\n",
       "День сноса телебашни\n",
       "День выключения <span style=\"font-weight: bold\">(</span>Shutdown Day<span style=\"font-weight: bold\">)</span>\n",
       "Международный день осведомителя <span style=\"font-weight: bold\">(</span>International Whistleblower Day<span style=\"font-weight: bold\">)</span>\n",
       "Всемирный день кабадди <span style=\"font-weight: bold\">(</span>World Kabaddi Day<span style=\"font-weight: bold\">)</span>\n",
       "День памяти священномученика Пиония Смирнского\n",
       "День памяти святителя Евфимия Новгородского\n",
       "День памяти преподобного Алексия Голосеевского\n",
       "День памяти святителя Софрония Иерусалимского\n",
       "День памяти жертв агрессии НАТО против Югославии <span style=\"font-weight: bold\">(</span>Remembrance Day for Victims of NATO Aggression<span style=\"font-weight: bold\">)</span> - Сербия\n",
       "День коктейлей <span style=\"font-weight: bold\">(</span>National Cocktail Day<span style=\"font-weight: bold\">)</span> - США\n",
       "День посадки деревьев - Уганда\n",
       "День жизни <span style=\"font-weight: bold\">(</span>Narodowy Dzien Zycia<span style=\"font-weight: bold\">)</span> - Польша\n",
       "День изюма в шоколаде <span style=\"font-weight: bold\">(</span>National Chocolate Covered Raisin Day<span style=\"font-weight: bold\">)</span> - США\n",
       "День соседей <span style=\"font-weight: bold\">(</span>Flatmate`s Day<span style=\"font-weight: bold\">)</span> - США\n",
       "День чизстейка <span style=\"font-weight: bold\">(</span>National Cheesesteak Day<span style=\"font-weight: bold\">)</span> - США\n",
       "День соглашения <span style=\"font-weight: bold\">(</span>Commonwealth Covenant Day<span style=\"font-weight: bold\">)</span> - Северные Марианские острова\n",
       "День памяти ради истины и справедливости <span style=\"font-weight: bold\">(</span>Dia de la Memoria por la Verdad y la Justicia<span style=\"font-weight: bold\">)</span> - Аргентина\n",
       "День Отаго <span style=\"font-weight: bold\">(</span>Otago Anniversary Day<span style=\"font-weight: bold\">)</span> - Новая Зеландия\n",
       "День святого Иосифа <span style=\"font-weight: bold\">(</span>Saint Joseph`s Day<span style=\"font-weight: bold\">)</span> - Колумбия\n",
       "Именины у Ивана, Георгия, Василия, Ефима, Софрония, Пиония, Епимаха\n",
       "Ефимов день <span style=\"font-weight: bold\">(</span>Антип-зубник<span style=\"font-weight: bold\">)</span>\n",
       "</pre>\n"
      ],
      "text/plain": [
       "Observations: День мастера маникюра\n",
       "День рождения паровоза\n",
       "День пробуждения медведя\n",
       "Международный день борьбы с депрессией \u001b[1m(\u001b[0mInternational Day Against Depression\u001b[1m)\u001b[0m\n",
       "День вверх тормашками\n",
       "День врача-фтизиатра\n",
       "День штурманской службы ВВС РФ\n",
       "День рождения куриного окорочка\n",
       "Международный день иллюзионистов\n",
       "Всемирный день борьбы с туберкулёзом \u001b[1m(\u001b[0mWorld Tuberculosis Day\u001b[1m)\u001b[0m\n",
       "Международный день достижений \u001b[1m(\u001b[0mInternational Day for Achievers\u001b[1m)\u001b[0m\n",
       "Международный день права на установление истины в отношении грубых нарушений прав человека и достоинства жертв \n",
       "\u001b[1m(\u001b[0mInternational Day for the Right to the Truth Concerning Gross Human Rights Violations and for the Dignity of \n",
       "Victims\u001b[1m)\u001b[0m\n",
       "День сноса телебашни\n",
       "День выключения \u001b[1m(\u001b[0mShutdown Day\u001b[1m)\u001b[0m\n",
       "Международный день осведомителя \u001b[1m(\u001b[0mInternational Whistleblower Day\u001b[1m)\u001b[0m\n",
       "Всемирный день кабадди \u001b[1m(\u001b[0mWorld Kabaddi Day\u001b[1m)\u001b[0m\n",
       "День памяти священномученика Пиония Смирнского\n",
       "День памяти святителя Евфимия Новгородского\n",
       "День памяти преподобного Алексия Голосеевского\n",
       "День памяти святителя Софрония Иерусалимского\n",
       "День памяти жертв агрессии НАТО против Югославии \u001b[1m(\u001b[0mRemembrance Day for Victims of NATO Aggression\u001b[1m)\u001b[0m - Сербия\n",
       "День коктейлей \u001b[1m(\u001b[0mNational Cocktail Day\u001b[1m)\u001b[0m - США\n",
       "День посадки деревьев - Уганда\n",
       "День жизни \u001b[1m(\u001b[0mNarodowy Dzien Zycia\u001b[1m)\u001b[0m - Польша\n",
       "День изюма в шоколаде \u001b[1m(\u001b[0mNational Chocolate Covered Raisin Day\u001b[1m)\u001b[0m - США\n",
       "День соседей \u001b[1m(\u001b[0mFlatmate`s Day\u001b[1m)\u001b[0m - США\n",
       "День чизстейка \u001b[1m(\u001b[0mNational Cheesesteak Day\u001b[1m)\u001b[0m - США\n",
       "День соглашения \u001b[1m(\u001b[0mCommonwealth Covenant Day\u001b[1m)\u001b[0m - Северные Марианские острова\n",
       "День памяти ради истины и справедливости \u001b[1m(\u001b[0mDia de la Memoria por la Verdad y la Justicia\u001b[1m)\u001b[0m - Аргентина\n",
       "День Отаго \u001b[1m(\u001b[0mOtago Anniversary Day\u001b[1m)\u001b[0m - Новая Зеландия\n",
       "День святого Иосифа \u001b[1m(\u001b[0mSaint Joseph`s Day\u001b[1m)\u001b[0m - Колумбия\n",
       "Именины у Ивана, Георгия, Василия, Ефима, Софрония, Пиония, Епимаха\n",
       "Ефимов день \u001b[1m(\u001b[0mАнтип-зубник\u001b[1m)\u001b[0m\n"
      ]
     },
     "metadata": {},
     "output_type": "display_data"
    },
    {
     "data": {
      "text/html": [
       "<pre style=\"white-space:pre;overflow-x:auto;line-height:normal;font-family:Menlo,'DejaVu Sans Mono',consolas,'Courier New',monospace\"><span style=\"color: #7f7f7f; text-decoration-color: #7f7f7f\">[Step 0: Duration 1.24 seconds| Input tokens: 1,189 | Output tokens: 34]</span>\n",
       "</pre>\n"
      ],
      "text/plain": [
       "\u001b[2m[Step 0: Duration 1.24 seconds| Input tokens: 1,189 | Output tokens: 34]\u001b[0m\n"
      ]
     },
     "metadata": {},
     "output_type": "display_data"
    },
    {
     "data": {
      "text/html": [
       "<pre style=\"white-space:pre;overflow-x:auto;line-height:normal;font-family:Menlo,'DejaVu Sans Mono',consolas,'Courier New',monospace\"><span style=\"color: #d4b702; text-decoration-color: #d4b702\">━━━━━━━━━━━━━━━━━━━━━━━━━━━━━━━━━━━━━━━━━━━━━━━━━━━━━ </span><span style=\"font-weight: bold\">Step </span><span style=\"color: #008080; text-decoration-color: #008080; font-weight: bold\">2</span><span style=\"color: #d4b702; text-decoration-color: #d4b702\"> ━━━━━━━━━━━━━━━━━━━━━━━━━━━━━━━━━━━━━━━━━━━━━━━━━━━━━━</span>\n",
       "</pre>\n"
      ],
      "text/plain": [
       "\u001b[38;2;212;183;2m━━━━━━━━━━━━━━━━━━━━━━━━━━━━━━━━━━━━━━━━━━━━━━━━━━━━━ \u001b[0m\u001b[1mStep \u001b[0m\u001b[1;36m2\u001b[0m\u001b[38;2;212;183;2m ━━━━━━━━━━━━━━━━━━━━━━━━━━━━━━━━━━━━━━━━━━━━━━━━━━━━━━\u001b[0m\n"
      ]
     },
     "metadata": {},
     "output_type": "display_data"
    },
    {
     "data": {
      "text/html": [
       "<pre style=\"white-space:pre;overflow-x:auto;line-height:normal;font-family:Menlo,'DejaVu Sans Mono',consolas,'Courier New',monospace\">╭─────────────────────────────────────────────────────────────────────────────────────────────────────────────────╮\n",
       "│ Calling tool: 'final_answer' with arguments: {'answer': '| Праздник | Тема | Уровень кринжа                     │\n",
       "│ |\\n|---------------------|---------------|-------------------|\\n| День мастера маникюра | Косметология и забота │\n",
       "│ о ногтях | 3 |\\n| День рождения паровоза | Паровозы и железные дороги | 4 |\\n| День пробуждения медведя |       │\n",
       "│ Медведи и природа | 2 |\\n| Международный день борьбы с депрессией | Здравоохранение и психология | 1 |\\n| День  │\n",
       "│ вверх тормашками | Юмористический подход к повседневной жизни | 9 |\\n| День штурманской службы ВВС РФ | Военные │\n",
       "│ и авиация | 3 |\\n| День рождения куриного окорочка | Кулинария и продукты питания | 5 |\\n| Международный день   │\n",
       "│ иллюзионистов | Искусство и развлечения | 6 |\\n| Всемирный день борьбы с туберкулёзом | Здравоохранение | 1     │\n",
       "│ |\\n| Международный день права на установление истины | Права человека | 2 |\\n| День сноса телебашни |           │\n",
       "│ Архитектура и инженерия | 7 |\\n| День выключения (Shutdown Day) | Экология и технологии | 4 |\\n| Международный  │\n",
       "│ день осведомителя | Права человека и этика | 2 |\\n| Всемирный день кабадди | Спорт | 3 |\\n| День памяти         │\n",
       "│ святителя Евфимия Новгородского | Религия и традиции | 1 |\\n| День памяти жертв агрессии НАТО против Югославии  │\n",
       "│ (Сербия) | Исторические события | 4 |\\n| День коктейлей (США) | Культура и напитки | 5 |\\n| День посадки        │\n",
       "│ деревьев (Уганда) | Экология и природа | 1 |\\n| Национальный день чизстейка (США) | Кулинария | 7 |\\n| День     │\n",
       "│ соглашения (Северные Марианские острова) | Исторические события и политика | 6 |\\n| День памяти ради истины и   │\n",
       "│ справедливости (Аргентина) | Право и общество | 3 |'}                                                           │\n",
       "╰─────────────────────────────────────────────────────────────────────────────────────────────────────────────────╯\n",
       "</pre>\n"
      ],
      "text/plain": [
       "╭─────────────────────────────────────────────────────────────────────────────────────────────────────────────────╮\n",
       "│ Calling tool: 'final_answer' with arguments: {'answer': '| Праздник | Тема | Уровень кринжа                     │\n",
       "│ |\\n|---------------------|---------------|-------------------|\\n| День мастера маникюра | Косметология и забота │\n",
       "│ о ногтях | 3 |\\n| День рождения паровоза | Паровозы и железные дороги | 4 |\\n| День пробуждения медведя |       │\n",
       "│ Медведи и природа | 2 |\\n| Международный день борьбы с депрессией | Здравоохранение и психология | 1 |\\n| День  │\n",
       "│ вверх тормашками | Юмористический подход к повседневной жизни | 9 |\\n| День штурманской службы ВВС РФ | Военные │\n",
       "│ и авиация | 3 |\\n| День рождения куриного окорочка | Кулинария и продукты питания | 5 |\\n| Международный день   │\n",
       "│ иллюзионистов | Искусство и развлечения | 6 |\\n| Всемирный день борьбы с туберкулёзом | Здравоохранение | 1     │\n",
       "│ |\\n| Международный день права на установление истины | Права человека | 2 |\\n| День сноса телебашни |           │\n",
       "│ Архитектура и инженерия | 7 |\\n| День выключения (Shutdown Day) | Экология и технологии | 4 |\\n| Международный  │\n",
       "│ день осведомителя | Права человека и этика | 2 |\\n| Всемирный день кабадди | Спорт | 3 |\\n| День памяти         │\n",
       "│ святителя Евфимия Новгородского | Религия и традиции | 1 |\\n| День памяти жертв агрессии НАТО против Югославии  │\n",
       "│ (Сербия) | Исторические события | 4 |\\n| День коктейлей (США) | Культура и напитки | 5 |\\n| День посадки        │\n",
       "│ деревьев (Уганда) | Экология и природа | 1 |\\n| Национальный день чизстейка (США) | Кулинария | 7 |\\n| День     │\n",
       "│ соглашения (Северные Марианские острова) | Исторические события и политика | 6 |\\n| День памяти ради истины и   │\n",
       "│ справедливости (Аргентина) | Право и общество | 3 |'}                                                           │\n",
       "╰─────────────────────────────────────────────────────────────────────────────────────────────────────────────────╯\n"
      ]
     },
     "metadata": {},
     "output_type": "display_data"
    },
    {
     "data": {
      "text/html": [
       "<pre style=\"white-space:pre;overflow-x:auto;line-height:normal;font-family:Menlo,'DejaVu Sans Mono',consolas,'Courier New',monospace\"><span style=\"color: #d4b702; text-decoration-color: #d4b702; font-weight: bold\">Final answer: | Праздник | Тема | Уровень кринжа |</span>\n",
       "<span style=\"color: #d4b702; text-decoration-color: #d4b702; font-weight: bold\">|---------------------|---------------|-------------------|</span>\n",
       "<span style=\"color: #d4b702; text-decoration-color: #d4b702; font-weight: bold\">| День мастера маникюра | Косметология и забота о ногтях | 3 |</span>\n",
       "<span style=\"color: #d4b702; text-decoration-color: #d4b702; font-weight: bold\">| День рождения паровоза | Паровозы и железные дороги | 4 |</span>\n",
       "<span style=\"color: #d4b702; text-decoration-color: #d4b702; font-weight: bold\">| День пробуждения медведя | Медведи и природа | 2 |</span>\n",
       "<span style=\"color: #d4b702; text-decoration-color: #d4b702; font-weight: bold\">| Международный день борьбы с депрессией | Здравоохранение и психология | 1 |</span>\n",
       "<span style=\"color: #d4b702; text-decoration-color: #d4b702; font-weight: bold\">| День вверх тормашками | Юмористический подход к повседневной жизни | 9 |</span>\n",
       "<span style=\"color: #d4b702; text-decoration-color: #d4b702; font-weight: bold\">| День штурманской службы ВВС РФ | Военные и авиация | 3 |</span>\n",
       "<span style=\"color: #d4b702; text-decoration-color: #d4b702; font-weight: bold\">| День рождения куриного окорочка | Кулинария и продукты питания | 5 |</span>\n",
       "<span style=\"color: #d4b702; text-decoration-color: #d4b702; font-weight: bold\">| Международный день иллюзионистов | Искусство и развлечения | 6 |</span>\n",
       "<span style=\"color: #d4b702; text-decoration-color: #d4b702; font-weight: bold\">| Всемирный день борьбы с туберкулёзом | Здравоохранение | 1 |</span>\n",
       "<span style=\"color: #d4b702; text-decoration-color: #d4b702; font-weight: bold\">| Международный день права на установление истины | Права человека | 2 |</span>\n",
       "<span style=\"color: #d4b702; text-decoration-color: #d4b702; font-weight: bold\">| День сноса телебашни | Архитектура и инженерия | 7 |</span>\n",
       "<span style=\"color: #d4b702; text-decoration-color: #d4b702; font-weight: bold\">| День выключения (Shutdown Day) | Экология и технологии | 4 |</span>\n",
       "<span style=\"color: #d4b702; text-decoration-color: #d4b702; font-weight: bold\">| Международный день осведомителя | Права человека и этика | 2 |</span>\n",
       "<span style=\"color: #d4b702; text-decoration-color: #d4b702; font-weight: bold\">| Всемирный день кабадди | Спорт | 3 |</span>\n",
       "<span style=\"color: #d4b702; text-decoration-color: #d4b702; font-weight: bold\">| День памяти святителя Евфимия Новгородского | Религия и традиции | 1 |</span>\n",
       "<span style=\"color: #d4b702; text-decoration-color: #d4b702; font-weight: bold\">| День памяти жертв агрессии НАТО против Югославии (Сербия) | Исторические события | 4 |</span>\n",
       "<span style=\"color: #d4b702; text-decoration-color: #d4b702; font-weight: bold\">| День коктейлей (США) | Культура и напитки | 5 |</span>\n",
       "<span style=\"color: #d4b702; text-decoration-color: #d4b702; font-weight: bold\">| День посадки деревьев (Уганда) | Экология и природа | 1 |</span>\n",
       "<span style=\"color: #d4b702; text-decoration-color: #d4b702; font-weight: bold\">| Национальный день чизстейка (США) | Кулинария | 7 |</span>\n",
       "<span style=\"color: #d4b702; text-decoration-color: #d4b702; font-weight: bold\">| День соглашения (Северные Марианские острова) | Исторические события и политика | 6 |</span>\n",
       "<span style=\"color: #d4b702; text-decoration-color: #d4b702; font-weight: bold\">| День памяти ради истины и справедливости (Аргентина) | Право и общество | 3 |</span>\n",
       "</pre>\n"
      ],
      "text/plain": [
       "\u001b[1;38;2;212;183;2mFinal answer: | Праздник | Тема | Уровень кринжа |\u001b[0m\n",
       "\u001b[1;38;2;212;183;2m|---------------------|---------------|-------------------|\u001b[0m\n",
       "\u001b[1;38;2;212;183;2m| День мастера маникюра | Косметология и забота о ногтях | 3 |\u001b[0m\n",
       "\u001b[1;38;2;212;183;2m| День рождения паровоза | Паровозы и железные дороги | 4 |\u001b[0m\n",
       "\u001b[1;38;2;212;183;2m| День пробуждения медведя | Медведи и природа | 2 |\u001b[0m\n",
       "\u001b[1;38;2;212;183;2m| Международный день борьбы с депрессией | Здравоохранение и психология | 1 |\u001b[0m\n",
       "\u001b[1;38;2;212;183;2m| День вверх тормашками | Юмористический подход к повседневной жизни | 9 |\u001b[0m\n",
       "\u001b[1;38;2;212;183;2m| День штурманской службы ВВС РФ | Военные и авиация | 3 |\u001b[0m\n",
       "\u001b[1;38;2;212;183;2m| День рождения куриного окорочка | Кулинария и продукты питания | 5 |\u001b[0m\n",
       "\u001b[1;38;2;212;183;2m| Международный день иллюзионистов | Искусство и развлечения | 6 |\u001b[0m\n",
       "\u001b[1;38;2;212;183;2m| Всемирный день борьбы с туберкулёзом | Здравоохранение | 1 |\u001b[0m\n",
       "\u001b[1;38;2;212;183;2m| Международный день права на установление истины | Права человека | 2 |\u001b[0m\n",
       "\u001b[1;38;2;212;183;2m| День сноса телебашни | Архитектура и инженерия | 7 |\u001b[0m\n",
       "\u001b[1;38;2;212;183;2m| День выключения (Shutdown Day) | Экология и технологии | 4 |\u001b[0m\n",
       "\u001b[1;38;2;212;183;2m| Международный день осведомителя | Права человека и этика | 2 |\u001b[0m\n",
       "\u001b[1;38;2;212;183;2m| Всемирный день кабадди | Спорт | 3 |\u001b[0m\n",
       "\u001b[1;38;2;212;183;2m| День памяти святителя Евфимия Новгородского | Религия и традиции | 1 |\u001b[0m\n",
       "\u001b[1;38;2;212;183;2m| День памяти жертв агрессии НАТО против Югославии (Сербия) | Исторические события | 4 |\u001b[0m\n",
       "\u001b[1;38;2;212;183;2m| День коктейлей (США) | Культура и напитки | 5 |\u001b[0m\n",
       "\u001b[1;38;2;212;183;2m| День посадки деревьев (Уганда) | Экология и природа | 1 |\u001b[0m\n",
       "\u001b[1;38;2;212;183;2m| Национальный день чизстейка (США) | Кулинария | 7 |\u001b[0m\n",
       "\u001b[1;38;2;212;183;2m| День соглашения (Северные Марианские острова) | Исторические события и политика | 6 |\u001b[0m\n",
       "\u001b[1;38;2;212;183;2m| День памяти ради истины и справедливости (Аргентина) | Право и общество | 3 |\u001b[0m\n"
      ]
     },
     "metadata": {},
     "output_type": "display_data"
    },
    {
     "data": {
      "text/html": [
       "<pre style=\"white-space:pre;overflow-x:auto;line-height:normal;font-family:Menlo,'DejaVu Sans Mono',consolas,'Courier New',monospace\"><span style=\"color: #7f7f7f; text-decoration-color: #7f7f7f\">[Step 1: Duration 20.97 seconds| Input tokens: 3,239 | Output tokens: 811]</span>\n",
       "</pre>\n"
      ],
      "text/plain": [
       "\u001b[2m[Step 1: Duration 20.97 seconds| Input tokens: 3,239 | Output tokens: 811]\u001b[0m\n"
      ]
     },
     "metadata": {},
     "output_type": "display_data"
    },
    {
     "data": {
      "text/plain": [
       "'| Праздник | Тема | Уровень кринжа |\\n|---------------------|---------------|-------------------|\\n| День мастера маникюра | Косметология и забота о ногтях | 3 |\\n| День рождения паровоза | Паровозы и железные дороги | 4 |\\n| День пробуждения медведя | Медведи и природа | 2 |\\n| Международный день борьбы с депрессией | Здравоохранение и психология | 1 |\\n| День вверх тормашками | Юмористический подход к повседневной жизни | 9 |\\n| День штурманской службы ВВС РФ | Военные и авиация | 3 |\\n| День рождения куриного окорочка | Кулинария и продукты питания | 5 |\\n| Международный день иллюзионистов | Искусство и развлечения | 6 |\\n| Всемирный день борьбы с туберкулёзом | Здравоохранение | 1 |\\n| Международный день права на установление истины | Права человека | 2 |\\n| День сноса телебашни | Архитектура и инженерия | 7 |\\n| День выключения (Shutdown Day) | Экология и технологии | 4 |\\n| Международный день осведомителя | Права человека и этика | 2 |\\n| Всемирный день кабадди | Спорт | 3 |\\n| День памяти святителя Евфимия Новгородского | Религия и традиции | 1 |\\n| День памяти жертв агрессии НАТО против Югославии (Сербия) | Исторические события | 4 |\\n| День коктейлей (США) | Культура и напитки | 5 |\\n| День посадки деревьев (Уганда) | Экология и природа | 1 |\\n| Национальный день чизстейка (США) | Кулинария | 7 |\\n| День соглашения (Северные Марианские острова) | Исторические события и политика | 6 |\\n| День памяти ради истины и справедливости (Аргентина) | Право и общество | 3 |'"
      ]
     },
     "execution_count": 27,
     "metadata": {},
     "output_type": "execute_result"
    }
   ],
   "source": [
    "\n",
    "\n",
    "model = LiteLLMModel(\n",
    "    model_id=\"ollama/phi4:latest\",\n",
    "    api_base=\"http://localhost:8888\",\n",
    "    api_key=\"YOUR_API_KEY\", \n",
    "    num_ctx=8192\n",
    ")\n",
    "\n",
    "agent = ToolCallingAgent(tools=[get_holidays], model=model)\n",
    "\n",
    "agent.run(\"Какие есть кринжовые праздники на 24 марта? Ответь на русском в формате таблицы Markdown - Праздник, Тема, Уровень кринжа (1-10)\")"
   ]
  }
 ],
 "metadata": {
  "kernelspec": {
   "display_name": ".venv",
   "language": "python",
   "name": "python3"
  },
  "language_info": {
   "codemirror_mode": {
    "name": "ipython",
    "version": 3
   },
   "file_extension": ".py",
   "mimetype": "text/x-python",
   "name": "python",
   "nbconvert_exporter": "python",
   "pygments_lexer": "ipython3",
   "version": "3.11.2"
  }
 },
 "nbformat": 4,
 "nbformat_minor": 2
}
